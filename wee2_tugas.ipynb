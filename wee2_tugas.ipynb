{
 "cells": [
  {
   "cell_type": "code",
   "execution_count": 2,
   "id": "94deb5c2-5756-4c1b-8d6f-846185aa48fc",
   "metadata": {},
   "outputs": [
    {
     "name": "stdout",
     "output_type": "stream",
     "text": [
      "Anda prosses Genap jika Rank 6 C:\\Users\\dell\n",
      "Anda prosses Ganjil jika Rank 1 C:\\Users\\dell\n",
      "Anda prosses Ganjil jika Rank 5 C:\\Users\\dell\n",
      "Anda prosses Genap jika Rank 0 C:\\Users\\dell\n",
      "Anda prosses Ganjil jika Rank 3 C:\\Users\\dell\n",
      "Anda prosses Genap jika Rank 4 C:\\Users\\dell\n",
      "Anda prosses Genap jika Rank 2 C:\\Users\\dell\n"
     ]
    }
   ],
   "source": [
    "!mpiexec -n 7 python py/week2_tugas.py"
   ]
  },
  {
   "cell_type": "code",
   "execution_count": null,
   "id": "e275ef1d-899b-4ce3-b82f-7b839ff6f896",
   "metadata": {},
   "outputs": [],
   "source": []
  }
 ],
 "metadata": {
  "kernelspec": {
   "display_name": "Python 3 (ipykernel)",
   "language": "python",
   "name": "python3"
  },
  "language_info": {
   "codemirror_mode": {
    "name": "ipython",
    "version": 3
   },
   "file_extension": ".py",
   "mimetype": "text/x-python",
   "name": "python",
   "nbconvert_exporter": "python",
   "pygments_lexer": "ipython3",
   "version": "3.10.9"
  }
 },
 "nbformat": 4,
 "nbformat_minor": 5
}
